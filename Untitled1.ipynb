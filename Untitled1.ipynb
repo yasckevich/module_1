{
 "cells": [
  {
   "cell_type": "code",
   "execution_count": 37,
   "metadata": {},
   "outputs": [
    {
     "name": "stdout",
     "output_type": "stream",
     "text": [
      "Johnny Depp and Helena Bonham Carter 6\n",
      "Hugh Jackman and Ian McKellen 5\n",
      "Vin Diesel and Paul Walker 5\n",
      "Adam Sandler and Kevin James 5\n",
      "Daniel Radcliffe and Rupert Grint 8\n"
     ]
    },
    {
     "name": "stderr",
     "output_type": "stream",
     "text": [
      "/Users/yasckevich/opt/anaconda3/lib/python3.7/site-packages/ipykernel_launcher.py:8: UserWarning: Boolean Series key will be reindexed to match DataFrame index.\n",
      "  \n",
      "/Users/yasckevich/opt/anaconda3/lib/python3.7/site-packages/ipykernel_launcher.py:12: UserWarning: Boolean Series key will be reindexed to match DataFrame index.\n",
      "  if sys.path[0] == '':\n",
      "/Users/yasckevich/opt/anaconda3/lib/python3.7/site-packages/ipykernel_launcher.py:16: UserWarning: Boolean Series key will be reindexed to match DataFrame index.\n",
      "  app.launch_new_instance()\n",
      "/Users/yasckevich/opt/anaconda3/lib/python3.7/site-packages/ipykernel_launcher.py:20: UserWarning: Boolean Series key will be reindexed to match DataFrame index.\n",
      "/Users/yasckevich/opt/anaconda3/lib/python3.7/site-packages/ipykernel_launcher.py:24: UserWarning: Boolean Series key will be reindexed to match DataFrame index.\n"
     ]
    }
   ],
   "source": [
    "#23.Какие актеры чаще всего снимаются в одном фильме вместе?\n",
    "\n",
    "import pandas as pd\n",
    "\n",
    "data=pd.read_csv('data.csv')\n",
    "\n",
    "data1=data[data.cast.str.contains('Johnny Depp')]\n",
    "data1=data1[data.cast.str.contains('Helena Bonham')]\n",
    "print('Johnny Depp and Helena Bonham Carter', len(data1))\n",
    "\n",
    "data2=data[data.cast.str.contains('Hugh Jackman')]\n",
    "data2=data2[data.cast.str.contains('Ian McKellen')]\n",
    "print('Hugh Jackman and Ian McKellen', len(data2))\n",
    "\n",
    "data3=data[data.cast.str.contains('Vin Diesel')]\n",
    "data3=data3[data.cast.str.contains('Paul Walker')]\n",
    "print('Vin Diesel and Paul Walker', len(data3))\n",
    "\n",
    "data4=data[data.cast.str.contains('Adam Sandler')]\n",
    "data4=data4[data.cast.str.contains('Kevin James')]\n",
    "print('Adam Sandler and Kevin James', len(data4))\n",
    "\n",
    "data5=data[data.cast.str.contains('Daniel Radcliffe')]\n",
    "data5=data5[data.cast.str.contains('Rupert Grint')]\n",
    "print('Daniel Radcliffe and Rupert Grint', len(data5))"
   ]
  },
  {
   "cell_type": "code",
   "execution_count": null,
   "metadata": {},
   "outputs": [],
   "source": []
  }
 ],
 "metadata": {
  "kernelspec": {
   "display_name": "Python 3",
   "language": "python",
   "name": "python3"
  },
  "language_info": {
   "codemirror_mode": {
    "name": "ipython",
    "version": 3
   },
   "file_extension": ".py",
   "mimetype": "text/x-python",
   "name": "python",
   "nbconvert_exporter": "python",
   "pygments_lexer": "ipython3",
   "version": "3.7.6"
  }
 },
 "nbformat": 4,
 "nbformat_minor": 4
}
