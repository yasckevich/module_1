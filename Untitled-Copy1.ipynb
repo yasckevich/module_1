{
 "cells": [
  {
   "cell_type": "code",
   "execution_count": 2,
   "metadata": {},
   "outputs": [
    {
     "data": {
      "text/plain": [
       "491    The Warrior's Way\n",
       "Name: original_title, dtype: object"
      ]
     },
     "metadata": {},
     "output_type": "display_data"
    }
   ],
   "source": [
    "#1. У какого фильма из списка самый большой бюджет?\n",
    "\n",
    "import pandas as pd\n",
    "data= pd.read_csv('data.csv')\n",
    "\n",
    "a=data.sort_values(['budget'],ascending=False).head(1)['original_title']\n",
    "#сортировка по столбцу \"бюджет\"\n",
    "\n",
    "display(a)"
   ]
  },
  {
   "cell_type": "code",
   "execution_count": 3,
   "metadata": {},
   "outputs": [
    {
     "data": {
      "text/plain": [
       "1158    Gods and Generals\n",
       "Name: original_title, dtype: object"
      ]
     },
     "metadata": {},
     "output_type": "display_data"
    }
   ],
   "source": [
    "#2. Какой из фильмов самый длительный (в минутах)?\n",
    "\n",
    "data= pd.read_csv('data.csv')\n",
    "\n",
    "a=data.sort_values(['runtime'],ascending=False).head(1)['original_title']\n",
    "#сортировка по столбцу \"длительность\"\n",
    "\n",
    "display(a)"
   ]
  },
  {
   "cell_type": "code",
   "execution_count": 4,
   "metadata": {},
   "outputs": [
    {
     "data": {
      "text/plain": [
       "769    Winnie the Pooh\n",
       "Name: original_title, dtype: object"
      ]
     },
     "metadata": {},
     "output_type": "display_data"
    }
   ],
   "source": [
    "#3. Какой из фильмов самый короткий (в минутах)?\n",
    "\n",
    "data= pd.read_csv('data.csv')\n",
    "\n",
    "a=data.sort_values(['runtime'],ascending=True).head(1)['original_title']\n",
    "#сортировка по столбцу \"длительность\"\n",
    "\n",
    "display(a)"
   ]
  },
  {
   "cell_type": "code",
   "execution_count": 38,
   "metadata": {},
   "outputs": [
    {
     "data": {
      "text/plain": [
       "109.65343915343915"
      ]
     },
     "metadata": {},
     "output_type": "display_data"
    },
    {
     "data": {
      "text/plain": [
       "109.65343915343915"
      ]
     },
     "metadata": {},
     "output_type": "display_data"
    }
   ],
   "source": [
    "#4. Какое число ближе к средней длительности фильма в датасете?\n",
    "\n",
    "data= pd.read_csv('data.csv')\n",
    "\n",
    "a=data['runtime']\n",
    "\n",
    "b=a.describe()\n",
    "#узнаем среднюю через метод Describe\n",
    "display(b['mean'])\n",
    "\n",
    "b=a.mean()\n",
    "#или узнаем среднюю, запросив напрямую \n",
    "\n",
    "display(b)"
   ]
  },
  {
   "cell_type": "code",
   "execution_count": 6,
   "metadata": {},
   "outputs": [
    {
     "data": {
      "text/plain": [
       "106.5"
      ]
     },
     "metadata": {},
     "output_type": "display_data"
    }
   ],
   "source": [
    "#5. Какое число ближе к медианной длительности фильма в датасете?\n",
    "\n",
    "data= pd.read_csv('data.csv')\n",
    "\n",
    "a=data['runtime']\n",
    "b=a.describe()\n",
    "#узнаем медиану через метод Describe\n",
    "\n",
    "display(b['50%'])"
   ]
  },
  {
   "cell_type": "code",
   "execution_count": 7,
   "metadata": {},
   "outputs": [
    {
     "data": {
      "text/plain": [
       "239    Avatar\n",
       "Name: original_title, dtype: object"
      ]
     },
     "metadata": {},
     "output_type": "display_data"
    }
   ],
   "source": [
    "#6. Какой самый прибыльный фильм?\n",
    "\n",
    "data= pd.read_csv('data.csv')\n",
    "data['profit']=data['revenue']-data['budget']\n",
    "#создадим новый столбик с данными по прибыли от фильма\n",
    "\n",
    "a=data.sort_values(['profit'],ascending=False).head(1)['original_title']\n",
    "display(a)"
   ]
  },
  {
   "cell_type": "code",
   "execution_count": 50,
   "metadata": {},
   "outputs": [
    {
     "data": {
      "text/plain": [
       "491    The Warrior's Way\n",
       "Name: original_title, dtype: object"
      ]
     },
     "metadata": {},
     "output_type": "display_data"
    }
   ],
   "source": [
    "#7. Какой фильм самый убыточный?\n",
    "\n",
    "data= pd.read_csv('data.csv')\n",
    "data['profit']=data['revenue']-data['budget']\n",
    "#создадим новый столбик с данными по прибыли от фильма\n",
    "\n",
    "a=data.sort_values(['profit'],ascending=True).head(1)['original_title']\n",
    "display(a)"
   ]
  },
  {
   "cell_type": "code",
   "execution_count": 9,
   "metadata": {},
   "outputs": [
    {
     "name": "stdout",
     "output_type": "stream",
     "text": [
      "1478\n"
     ]
    }
   ],
   "source": [
    "#8. У скольких фильмов из датасета объем сборов оказался выше бюджета?\n",
    "\n",
    "data= pd.read_csv('data.csv')\n",
    "data['profit']=data['revenue']-data['budget']\n",
    "#создадим новый столбик с данными по прибыли от фильма\n",
    "\n",
    "a=len(data.query('profit>0'))\n",
    "print(a)"
   ]
  },
  {
   "cell_type": "code",
   "execution_count": 10,
   "metadata": {},
   "outputs": [
    {
     "data": {
      "text/plain": [
       "600    The Dark Knight\n",
       "Name: original_title, dtype: object"
      ]
     },
     "metadata": {},
     "output_type": "display_data"
    }
   ],
   "source": [
    "#9. Какой фильм оказался самым кассовым в 2008 году?\n",
    "\n",
    "data= pd.read_csv('data.csv')\n",
    "\n",
    "a=data.query('release_year==2008')\n",
    "#сортировка по году\n",
    "\n",
    "b=a.sort_values(['revenue'],ascending=False).head(1)['original_title']\n",
    "display(b)"
   ]
  },
  {
   "cell_type": "code",
   "execution_count": 11,
   "metadata": {},
   "outputs": [
    {
     "data": {
      "text/plain": [
       "1246    The Lone Ranger\n",
       "Name: original_title, dtype: object"
      ]
     },
     "metadata": {},
     "output_type": "display_data"
    }
   ],
   "source": [
    "#10. Какой фильм оказался самым кассовым в 2008 году?\n",
    "\n",
    "data= pd.read_csv('data.csv')\n",
    "data['profit']=data['revenue']-data['budget']\n",
    "#создадим новый столбик с данными по прибыли от фильма\n",
    "\n",
    "a=data.query('2012<=release_year<=2014')\n",
    "#сортировка по году\n",
    "\n",
    "b=a.sort_values(['profit'],ascending=True).head(1)['original_title']\n",
    "display(b)"
   ]
  },
  {
   "cell_type": "code",
   "execution_count": 12,
   "metadata": {},
   "outputs": [
    {
     "data": {
      "text/plain": [
       "0    Drama\n",
       "Name: genres, dtype: object"
      ]
     },
     "metadata": {},
     "output_type": "display_data"
    }
   ],
   "source": [
    "#11. Какого жанра фильмов больше всего?\n",
    "\n",
    "data= pd.read_csv('data.csv')\n",
    "\n",
    "a= pd.DataFrame(data.genres.str.split('|').tolist()).stack().value_counts()\n",
    "a=list(dict(a).keys())\n",
    "gen=pd.DataFrame(a, columns=['genres'])\n",
    "#cписок всех жанров\n",
    "\n",
    "def func(genres):\n",
    "    a=len(data[data.genres.str.contains(genres)])\n",
    "    return a\n",
    "gen['count']=gen.genres.apply(func)\n",
    "#создаем таблицу с кол-вом фильмов каждого жанра\n",
    "\n",
    "display(gen.head(1)['genres'])\n"
   ]
  },
  {
   "cell_type": "code",
   "execution_count": 13,
   "metadata": {},
   "outputs": [
    {
     "data": {
      "text/plain": [
       "0    Drama\n",
       "Name: genres, dtype: object"
      ]
     },
     "metadata": {},
     "output_type": "display_data"
    }
   ],
   "source": [
    "#12. Какого жанра среди прибыльных фильмов больше всего?\n",
    "\n",
    "data= pd.read_csv('data.csv')\n",
    "\n",
    "data['profit']=data['revenue']-data['budget']\n",
    "data_new=data.query('profit>0')\n",
    "#создаем таблицу только с прибыльными фильмами\n",
    "\n",
    "a=pd.DataFrame(data.genres.str.split('|').tolist()).stack().value_counts()\n",
    "a=list(dict(a).keys())\n",
    "gen=pd.DataFrame(a,columns=['genres'])\n",
    "#cписок всех жанров\n",
    "\n",
    "def func(genres):\n",
    "    a=len(data_new[data_new.genres.str.contains(genres)])\n",
    "    return a\n",
    "gen['count']=gen.genres.apply(func)\n",
    "#создаем таблицу с кол-вом фильмов каждого жанра\n",
    "\n",
    "display(gen.head(1)['genres'])"
   ]
  },
  {
   "cell_type": "code",
   "execution_count": 14,
   "metadata": {},
   "outputs": [
    {
     "data": {
      "text/plain": [
       "director\n",
       "Steven Soderbergh    13\n",
       "Name: original_title, dtype: int64"
      ]
     },
     "metadata": {},
     "output_type": "display_data"
    }
   ],
   "source": [
    "#13. Кто из режиссеров снял больше всего фильмов?\n",
    "\n",
    "data= pd.read_csv('data.csv')\n",
    "\n",
    "a=data.groupby(['director']).count()\n",
    "#группировка по режиссеру с количеством фильмов\n",
    "\n",
    "b=a.sort_values(['original_title'],ascending=False).head(1)['original_title']\n",
    "display(b)"
   ]
  },
  {
   "cell_type": "code",
   "execution_count": 51,
   "metadata": {},
   "outputs": [
    {
     "data": {
      "text/plain": [
       "director\n",
       "Ridley Scott    12\n",
       "Name: original_title, dtype: int64"
      ]
     },
     "metadata": {},
     "output_type": "display_data"
    }
   ],
   "source": [
    "#14. Кто из режиссеров снял больше всего прибыльных фильмов?\n",
    "\n",
    "data= pd.read_csv('data.csv')\n",
    "\n",
    "data['profit']=data['revenue']-data['budget']\n",
    "a=data.query('profit>0')\n",
    "#создаем таблицу только с прибыльными фильмами\n",
    "\n",
    "b=a.groupby(['director']).count()\n",
    "#группировка по режиссеру с количеством фильмов\n",
    "\n",
    "c=b.sort_values(['original_title'],ascending=False).head(1)['original_title']\n",
    "display(c)"
   ]
  },
  {
   "cell_type": "code",
   "execution_count": 52,
   "metadata": {
    "scrolled": true
   },
   "outputs": [
    {
     "data": {
      "text/plain": [
       "director\n",
       "Peter Jackson    5202593685\n",
       "Name: profit, dtype: int64"
      ]
     },
     "metadata": {},
     "output_type": "display_data"
    }
   ],
   "source": [
    "#15. Кто из режиссеров принес больше всего прибыли?\n",
    "\n",
    "data= pd.read_csv('data.csv')\n",
    "data['profit']=data['revenue']-data['budget']\n",
    "a=data.query('profit>0')\n",
    "#создаем таблицу только с прибыльными фильмами\n",
    "\n",
    "b=a.groupby(['director']).sum()\n",
    "#группировка по режиссеру с суммой по всем столбцам\n",
    "\n",
    "c=b.sort_values(['profit'],ascending=False).head(1)['profit']\n",
    "display(c)"
   ]
  },
  {
   "cell_type": "code",
   "execution_count": 53,
   "metadata": {},
   "outputs": [
    {
     "data": {
      "text/plain": [
       "109    Emma Watson\n",
       "Name: actor, dtype: object"
      ]
     },
     "metadata": {},
     "output_type": "display_data"
    }
   ],
   "source": [
    "#16. Какой актер принес больше всего прибыли?\n",
    "\n",
    "data= pd.read_csv('data.csv')\n",
    "\n",
    "data['profit']=data['revenue']-data['budget']\n",
    "#создадим новый столбик с данными по прибыли от фильма\n",
    "\n",
    "a=pd.DataFrame(data.cast.str.split('|').tolist()).stack().value_counts()\n",
    "new=list(dict(a).keys())\n",
    "act=pd.DataFrame(new,columns=['actor'])\n",
    "#создадим таблицу с актерами\n",
    "\n",
    "def func(acts):\n",
    "    c=data[data.cast.str.contains(acts)]\n",
    "    b=c.profit.sum()\n",
    "    return b\n",
    "act['profit']=act.actor.apply(func)\n",
    "#добавим в предыдущую таблицу сумму по прибыли\n",
    "\n",
    "b=act.sort_values(['profit'],ascending=False).head(1)['actor']\n",
    "display(b)"
   ]
  },
  {
   "cell_type": "code",
   "execution_count": 18,
   "metadata": {},
   "outputs": [
    {
     "data": {
      "text/plain": [
       "178    Kirsten Dunst\n",
       "Name: actor, dtype: object"
      ]
     },
     "metadata": {},
     "output_type": "display_data"
    }
   ],
   "source": [
    "#17. Какой актер принес меньше всего прибыли в 2012 году?\n",
    "\n",
    "data=pd.read_csv('data.csv')\n",
    "\n",
    "data=data.query('release_year==2012')\n",
    "data['profit']=data['revenue']-data['budget']\n",
    "#создадим новый столбик с данными по прибыли от фильма\n",
    "\n",
    "a=pd.DataFrame(data_new.cast.str.split('|').tolist()).stack().value_counts()\n",
    "new=list(dict(a).keys())\n",
    "act=pd.DataFrame(new,columns=['actor'])\n",
    "#создадим таблицу с актерами\n",
    "\n",
    "def func(acts):\n",
    "    a=data[data.cast.str.contains(acts)]\n",
    "    b=a.profit.sum()\n",
    "    return b\n",
    "act['profit']=act.actor.apply(func)\n",
    "#добавим в предыдущую таблицу сумму по прибыли\n",
    "\n",
    "b=act.sort_values(['profit'],ascending=True).head(1)['actor']\n",
    "display(b)"
   ]
  },
  {
   "cell_type": "code",
   "execution_count": 19,
   "metadata": {},
   "outputs": [
    {
     "data": {
      "text/plain": [
       "3    Matt Damon\n",
       "Name: actor, dtype: object"
      ]
     },
     "metadata": {},
     "output_type": "display_data"
    }
   ],
   "source": [
    "#18. Какой актер снялся в большем количестве высокобюджетных фильмов? \n",
    "\n",
    "data=pd.read_csv('data.csv')\n",
    "\n",
    "x=data.budget.mean()\n",
    "#создаем новую переменную со среднем значением по столбцу \"Бюджет\"\n",
    "\n",
    "data_new=data.query('budget> @x')\n",
    "#создаем новую таблицу только с высокобюджетными фильмами\n",
    "\n",
    "a=pd.DataFrame(data.cast.str.split('|').tolist()).stack().value_counts()\n",
    "new=list(dict(a).keys())\n",
    "act=pd.DataFrame(new,columns=['actor'])\n",
    "#создаем таблицу с актерами\n",
    "\n",
    "def func(acts):\n",
    "    a=len(data_new[data_new.cast.str.contains(acts)])\n",
    "    return a\n",
    "act['count']=act.actor.apply(func)\n",
    "#добавим в предыдущую таблицу количество фильмов по актерам\n",
    "\n",
    "b=act.sort_values(['count'],ascending=False).head(1)['actor']\n",
    "display(b)"
   ]
  },
  {
   "cell_type": "code",
   "execution_count": 20,
   "metadata": {},
   "outputs": [
    {
     "data": {
      "text/plain": [
       "0    Action\n",
       "Name: genres, dtype: object"
      ]
     },
     "metadata": {},
     "output_type": "display_data"
    }
   ],
   "source": [
    "#19. В фильмах какого жанра больше всего снимался Nicolas Cage?\n",
    "\n",
    "data=pd.read_csv('data.csv')\n",
    "\n",
    "x='Nicolas Cage'\n",
    "data_new= data[data.cast.str.contains(x)]\n",
    "#сортируем таблицу только с фильмами с Николасом Кейджем\n",
    "\n",
    "a=pd.DataFrame(data_new.genres.str.split('|').tolist()).stack().value_counts()\n",
    "new=list(dict(a).keys())\n",
    "gen=pd.DataFrame(new,columns=['genres'])\n",
    "#собираем в таблицу все жанры\n",
    "\n",
    "def func(gen):\n",
    "    a=len(data_new[data_new.genres.str.contains(gen)])\n",
    "    return a\n",
    "gen['count']=gen.genres.apply(func)\n",
    "#добавляем в таблицу кол-во фильмов\n",
    "\n",
    "b=gen.sort_values(['count'],ascending=False).head(1)['genres']\n",
    "display(b)"
   ]
  },
  {
   "cell_type": "code",
   "execution_count": 21,
   "metadata": {},
   "outputs": [
    {
     "name": "stderr",
     "output_type": "stream",
     "text": [
      "/Users/yasckevich/opt/anaconda3/lib/python3.7/site-packages/pandas/core/strings.py:1952: UserWarning: This pattern has match groups. To actually get the groups, use str.extract.\n",
      "  return func(self, *args, **kwargs)\n"
     ]
    },
    {
     "data": {
      "text/plain": [
       "327    Universal\n",
       "Name: comp, dtype: object"
      ]
     },
     "metadata": {},
     "output_type": "display_data"
    }
   ],
   "source": [
    "#20. Какая студия сняла больше всего фильмов?\n",
    "\n",
    "data=pd.read_csv('data.csv')\n",
    "\n",
    "a=pd.DataFrame(data.production_companies.str.split('|').tolist()).stack().value_counts()\n",
    "new=list(dict(a).keys())\n",
    "prod=pd.DataFrame(new,columns=['comp'])\n",
    "#собираем в таблицу все студии\n",
    "\n",
    "def func(comp):\n",
    "    a=len(data[data.production_companies.str.contains(comp)])\n",
    "    return a\n",
    "prod['count']=prod.comp.apply(func)\n",
    "#добавляем в таблицу кол-во фильмов\n",
    "\n",
    "display(prod.sort_values(['count'],ascending=False).head(1)['comp'])"
   ]
  },
  {
   "cell_type": "code",
   "execution_count": 22,
   "metadata": {},
   "outputs": [
    {
     "data": {
      "text/plain": [
       "327    Universal\n",
       "Name: comp, dtype: object"
      ]
     },
     "metadata": {},
     "output_type": "display_data"
    }
   ],
   "source": [
    "#21. Какая студия сняла больше всего фильмов в 2015 году?\n",
    "\n",
    "data=pd.read_csv('data.csv')\n",
    "data1=data.query('release_year == 2015')\n",
    "#сортируем таблицу по году\n",
    "\n",
    "a=pd.DataFrame(data.production_companies.str.split('|').tolist()).stack().value_counts()\n",
    "new=list(dict(a).keys())\n",
    "prod=pd.DataFrame(new,columns=['comp'])\n",
    "#собираем в таблицу все студии\n",
    "\n",
    "def func(comp):\n",
    "    a=len(data1[data1.production_companies.str.contains(comp)])\n",
    "    return a\n",
    "prod['count']=prod.comp.apply(func)\n",
    "#добавляем в таблицу кол-во фильмов\n",
    "\n",
    "b=prod.sort_values(['count'],ascending=False).head(1)['comp']\n",
    "display (b)"
   ]
  },
  {
   "cell_type": "code",
   "execution_count": 23,
   "metadata": {},
   "outputs": [
    {
     "data": {
      "text/plain": [
       "0    Universal Pictures\n",
       "Name: comp, dtype: object"
      ]
     },
     "metadata": {},
     "output_type": "display_data"
    }
   ],
   "source": [
    "#22. Какая студия заработала больше всего денег в жанре комедий за все время?\n",
    "\n",
    "data=pd.read_csv('data.csv')\n",
    "\n",
    "data1=data[data.genres.str.contains('Comedy')]\n",
    "#сортируем таблицу по жанру Комедия\n",
    "\n",
    "a=pd.DataFrame(data.production_companies.str.split('|').tolist()).stack().value_counts()\n",
    "new=list(dict(a).keys())\n",
    "prod=pd.DataFrame(new,columns=['comp'])\n",
    "#собираем в таблицу все студии\n",
    "\n",
    "def func(comp):\n",
    "    a=data1[data1.production_companies.str.contains(comp)]\n",
    "    b=data1.revenue.sum()\n",
    "    return b\n",
    "prod['count']=prod.comp.apply(func)\n",
    "#добавляем в таблицу сумму по выручке\n",
    "\n",
    "b=prod.sort_values(['count'],ascending=False).head(1)['comp']\n",
    "display (b)"
   ]
  },
  {
   "cell_type": "code",
   "execution_count": 24,
   "metadata": {},
   "outputs": [
    {
     "data": {
      "text/plain": [
       "0    Universal Pictures\n",
       "Name: comp, dtype: object"
      ]
     },
     "metadata": {},
     "output_type": "display_data"
    }
   ],
   "source": [
    "#23. Какая студия заработала больше всего денег в 2012 году?\n",
    "\n",
    "data1=pd.read_csv('data.csv')\n",
    "\n",
    "data=data.query('release_year == 2012')\n",
    "#сортируем таблицу по году\n",
    "\n",
    "a=pd.DataFrame(data1.production_companies.str.split('|').tolist()).stack().value_counts()\n",
    "new=list(dict(a).keys())\n",
    "prod=pd.DataFrame(new,columns=['comp'])\n",
    "#собираем в таблицу все студии\n",
    "\n",
    "def func(comp):\n",
    "    a=data[data.production_companies.str.contains(comp)]\n",
    "    b=data.revenue.sum()\n",
    "    return b\n",
    "prod['count']=prod.comp.apply(func)\n",
    "#добавляем в таблицу сумму по выручке\n",
    "\n",
    "b=prod.sort_values(['count'],ascending=False).head(1)['comp']\n",
    "display (b)"
   ]
  },
  {
   "cell_type": "code",
   "execution_count": 39,
   "metadata": {},
   "outputs": [
    {
     "data": {
      "text/plain": [
       "926    K-19: The Widowmaker\n",
       "Name: original_title, dtype: object"
      ]
     },
     "metadata": {},
     "output_type": "display_data"
    }
   ],
   "source": [
    "#24. Самый убыточный фильм от Paramount Pictures?\n",
    "\n",
    "data=pd.read_csv('data.csv')\n",
    "\n",
    "data=data[data.production_companies.str.contains('Paramount')]\n",
    "#сортируем таблицу по нужной студии\n",
    "\n",
    "data['profit']=data['revenue']-data['budget']\n",
    "#создадим новый столбик с данными по прибыли от фильма\n",
    "\n",
    "b=data.sort_values(['profit'],ascending=True).head(1)['original_title']\n",
    "display (b)"
   ]
  },
  {
   "cell_type": "code",
   "execution_count": 26,
   "metadata": {},
   "outputs": [
    {
     "data": {
      "text/plain": [
       "release_year\n",
       "2015    18668572378\n",
       "Name: profit, dtype: int64"
      ]
     },
     "metadata": {},
     "output_type": "display_data"
    }
   ],
   "source": [
    "#25. Какой самый прибыльный год (в какой год студии заработали больше всего)?\n",
    "\n",
    "data= pd.read_csv('data.csv')\n",
    "data['profit']=data['revenue']-data['budget']\n",
    "#создадим новый столбик с данными по прибыли от фильма\n",
    "\n",
    "b=data.groupby(['release_year']).sum()\n",
    "#сгруппируем по годам и узнаем сумму по каждому из них\n",
    "\n",
    "c=b.sort_values(['profit'],ascending=False).head(1)['profit']\n",
    "display(c)"
   ]
  },
  {
   "cell_type": "code",
   "execution_count": 40,
   "metadata": {},
   "outputs": [
    {
     "data": {
      "text/plain": [
       "release_year\n",
       "2014    2295464519\n",
       "Name: profit, dtype: int64"
      ]
     },
     "metadata": {},
     "output_type": "display_data"
    }
   ],
   "source": [
    "#26. Какой самый прибыльный год для студии Warner Bros?\n",
    "\n",
    "data=pd.read_csv('data.csv')\n",
    "\n",
    "data=data[data.production_companies.str.contains('Warner Bros')]\n",
    "#сортируем таблицу по нужной студии\n",
    "\n",
    "data['profit']=data['revenue']-data['budget']\n",
    "#создадим новый столбик с данными по прибыли от фильма\n",
    "\n",
    "a=data.groupby(['release_year']).sum()\n",
    "#сгруппируем по годам и узнаем сумму по каждому из них\n",
    "\n",
    "b=a.sort_values(['profit'],ascending=False).head(1)['profit']\n",
    "display (b)"
   ]
  },
  {
   "cell_type": "code",
   "execution_count": 28,
   "metadata": {},
   "outputs": [
    {
     "data": {
      "text/plain": [
       "month\n",
       "9    227\n",
       "Name: original_title, dtype: int64"
      ]
     },
     "metadata": {},
     "output_type": "display_data"
    }
   ],
   "source": [
    "#27. В каком месяце за все годы суммарно вышло больше всего фильмов?\n",
    "\n",
    "data=pd.read_csv('data.csv')\n",
    "\n",
    "def func(date):\n",
    "    a=date.find('/')\n",
    "    b=date[:a]\n",
    "    return b\n",
    "data['month']=data.release_date.apply(func)\n",
    "#создадим отдельный столбик с номером месяца\n",
    "\n",
    "a=data.groupby(['month']).count()\n",
    "#группируем таблицу по месяцам\n",
    "\n",
    "b=a.sort_values(['original_title'],ascending=False).head(1)['original_title']\n",
    "display(b)"
   ]
  },
  {
   "cell_type": "code",
   "execution_count": 41,
   "metadata": {},
   "outputs": [
    {
     "data": {
      "text/plain": [
       "450"
      ]
     },
     "metadata": {},
     "output_type": "display_data"
    }
   ],
   "source": [
    "#28. Сколько суммарно вышло фильмов летом (за июнь, июль, август)?\n",
    "\n",
    "data=pd.read_csv('data.csv')\n",
    "\n",
    "def func(date):\n",
    "    a=date.find('/')\n",
    "    b=date[:a]\n",
    "    return int(b)\n",
    "data['month']=data.release_date.apply(func)\n",
    "#создадим отдельный столбик с номером месяца\n",
    "\n",
    "data_new=data.query('5<month<9')\n",
    "#сортируем таблицу только по летним месяцам\n",
    "\n",
    "display (len(data_new))"
   ]
  },
  {
   "cell_type": "code",
   "execution_count": 30,
   "metadata": {},
   "outputs": [
    {
     "data": {
      "text/plain": [
       "director\n",
       "Steven Soderbergh    13\n",
       "Name: original_title, dtype: int64"
      ]
     },
     "metadata": {},
     "output_type": "display_data"
    }
   ],
   "source": [
    "#29. Какой режиссер выпускает (суммарно по годам) больше всего фильмов зимой?\n",
    "\n",
    "data=pd.read_csv('data.csv')\n",
    "\n",
    "def func(date):\n",
    "    a=date.find('/')\n",
    "    b=date[:a]\n",
    "    return int(b)\n",
    "data['month']=data.release_date.apply(func)\n",
    "#создадим отдельный столбик с номером месяца\n",
    "\n",
    "data_new=data.query('month==1 or month==2 or month==12')\n",
    "#сортируем таблицу только по зимним месяцам\n",
    "\n",
    "a=data.groupby(['director']).count()\n",
    "#группируем таблицу по режиссерам\n",
    "\n",
    "b=a.sort_values(['original_title'],ascending=False)\n",
    "display(b.head(1)['original_title'])"
   ]
  },
  {
   "cell_type": "code",
   "execution_count": 45,
   "metadata": {},
   "outputs": [
    {
     "name": "stdout",
     "output_type": "stream",
     "text": [
      "               sum\n",
      "All   380956043820\n",
      "Июнь   55102525000\n"
     ]
    }
   ],
   "source": [
    "#30. Какой месяц чаще всего самый прибыльный в году?\n",
    "\n",
    "data=pd.read_csv('data.csv')\n",
    "data['profit']=data['revenue']-data['budget']\n",
    "\n",
    "def func(date):\n",
    "    a=date.find('/')\n",
    "    b=date[:a]\n",
    "    return int(b)\n",
    "data['month']=data.release_date.apply(func)\n",
    "#создадим отдельный столбик с номером месяца\n",
    "\n",
    "data_new=data.pivot_table(values=['profit'], index=['release_year'], columns=['month'],aggfunc='sum',margins=True)\n",
    "#создаем сводную таблицу по сумме каждого месяца в каждом году\n",
    "\n",
    "a=dict(data_new.sum())\n",
    "new=list(dict(a).values())\n",
    "df=pd.DataFrame(new, columns=['sum'],index=['Январь', 'Февраль', 'Март', 'Апрель', 'Май', 'Июнь', 'Июль', 'Август', 'Сентябрь', 'Октябрь', 'Ноябрь', 'Декабрь','All'])\n",
    "#создаем таблицу с суммой по каждому месяцу и назваию месяца\n",
    "\n",
    "print(df.sort_values(['sum'],ascending=False).head(2))"
   ]
  },
  {
   "cell_type": "code",
   "execution_count": 32,
   "metadata": {
    "scrolled": true
   },
   "outputs": [
    {
     "name": "stderr",
     "output_type": "stream",
     "text": [
      "/Users/yasckevich/opt/anaconda3/lib/python3.7/site-packages/pandas/core/strings.py:1952: UserWarning: This pattern has match groups. To actually get the groups, use str.extract.\n",
      "  return func(self, *args, **kwargs)\n"
     ]
    },
    {
     "data": {
      "text/plain": [
       "Four By Two Productions    Four By Two Productions\n",
       "Name: comp, dtype: object"
      ]
     },
     "metadata": {},
     "output_type": "display_data"
    },
    {
     "name": "stdout",
     "output_type": "stream",
     "text": [
      "None\n"
     ]
    }
   ],
   "source": [
    "#31. Названия фильмов какой студии в среднем самые длинные по количеству символов?\n",
    "\n",
    "data=pd.read_csv('data.csv')\n",
    "\n",
    "a=pd.DataFrame(data.production_companies.str.split('|').tolist()).stack().value_counts()\n",
    "new=list(dict(a).keys())\n",
    "prod=pd.DataFrame(new,columns=['comp'],index=new)\n",
    "#собираем в таблицу все студии\n",
    "\n",
    "def func(comp):\n",
    "    a=data[data.production_companies.str.contains(comp)]\n",
    "    b=a['original_title']\n",
    "    return list(b)\n",
    "prod['film']=prod.comp.apply(func)\n",
    "#добавляем в таблицу названия фильмов по каждой студии\n",
    "\n",
    "def func(word): \n",
    "    s=len(word)\n",
    "    return s\n",
    "prod['len']=prod.film.apply(func)\n",
    "#добавляем в таблицу количество фильмов по каждой студии\n",
    "\n",
    "def func(letter):\n",
    "    a=str(letter)\n",
    "    b=a.count(' ')\n",
    "    c=a.count('[')\n",
    "    d=a.count(']')\n",
    "    e=a.count(',')\n",
    "    f=a.count('-')  \n",
    "    s=len(letter)*2\n",
    "    z=len(a)-b-c-d-e-f-s\n",
    "    return z\n",
    "prod['letter']=prod.film.apply(func)\n",
    "#добавляем в таблицу количество символов в фильмах по каждой студии (чувствую, что эту часть можно сделать гораздо проще, мб с помощью регулярных выражений)\n",
    "\n",
    "prod['mean']=prod['letter']/prod['len']\n",
    "#добавляем в таблицу среднее количество символов в названии фильмах по каждой студии\n",
    "\n",
    "print (display(prod.sort_values(['mean'],ascending=False).head(1)['comp']))"
   ]
  },
  {
   "cell_type": "code",
   "execution_count": 33,
   "metadata": {},
   "outputs": [
    {
     "data": {
      "text/plain": [
       "Four By Two Productions    Four By Two Productions\n",
       "Name: comp, dtype: object"
      ]
     },
     "metadata": {},
     "output_type": "display_data"
    },
    {
     "name": "stdout",
     "output_type": "stream",
     "text": [
      "None\n"
     ]
    }
   ],
   "source": [
    "#32. Названия фильмов какой студии в среднем самые длинные по количеству слов?\n",
    "\n",
    "import pandas as pd\n",
    "data=pd.read_csv('data.csv')\n",
    "\n",
    "a=pd.DataFrame(data.production_companies.str.split('|').tolist()).stack().value_counts()\n",
    "new=list(dict(a).keys())\n",
    "prod=pd.DataFrame(new,columns=['comp'],index=new)\n",
    "#собираем в таблицу все студии\n",
    "\n",
    "def func(comp):\n",
    "    a=data[data.production_companies.str.contains(comp)]\n",
    "    b=a['original_title']\n",
    "    return list(b)\n",
    "prod['film']=prod.comp.apply(func)\n",
    "#добавляем в таблицу названия фильмов по каждой студии\n",
    "\n",
    "def func(word): \n",
    "    s=len(word)\n",
    "    return s\n",
    "prod['len']=prod.film.apply(func)\n",
    "#добавляем в таблицу количество фильмов по каждой студии\n",
    "\n",
    "def func(word):\n",
    "    a=str(word)\n",
    "    b=a.count(' ')+1\n",
    "    return b\n",
    "prod['word']=prod.film.apply(func)\n",
    "#добавляем в таблицу количество слов в названиях фильмов по каждой студии. (Считаем кол-во пробелов и добавляем 1, так как одно слово всегда остается без пробела)\n",
    "\n",
    "prod['mean']=prod['word']/prod['len']\n",
    "prod=prod.query('len>0')\n",
    "#узнаем среднее кол-во слов\n",
    "\n",
    "print (display(prod.sort_values(['mean'],ascending=False).head(1)['comp']))"
   ]
  },
  {
   "cell_type": "code",
   "execution_count": 34,
   "metadata": {},
   "outputs": [
    {
     "name": "stdout",
     "output_type": "stream",
     "text": [
      "2299\n"
     ]
    }
   ],
   "source": [
    "#33. Сколько разных слов используется в названиях фильмов (без учета регистра)?\n",
    "\n",
    "\n",
    "import pandas as pd\n",
    "data=pd.read_csv('data.csv')\n",
    "\n",
    "a=pd.DataFrame(data.original_title.str.split('|').tolist()).stack().value_counts()\n",
    "#создаем список всех названий \n",
    "\n",
    "new=str(list(dict(a).keys())).replace(',','')\n",
    "new=new.replace(\"'\",' ')\n",
    "new=new.replace('\"',' ')\n",
    "new=new.replace('[',' ')\n",
    "new=new.replace(']',' ')\n",
    "new=new.replace(':',' ')\n",
    "new=new.replace('-',' ')\n",
    "new=new.replace('/',' ')\n",
    "new=new.replace('&',' ')\n",
    "new=new.replace('1','')\n",
    "new=new.replace('2','')\n",
    "new=new.replace('3','')\n",
    "new=new.replace('4','')\n",
    "new=new.replace('5','')\n",
    "new=new.replace('6','')\n",
    "new=new.replace('7','')\n",
    "new=new.replace('8','')\n",
    "new=new.replace('9','')\n",
    "new=new.replace('0','')\n",
    "new=new.replace('.',' ')\n",
    "new=new.replace(')',' ')\n",
    "new=new.replace('(',' ')\n",
    "new=new.replace('!','')\n",
    "new=new.replace('?','')\n",
    "#убираем лишние знаки (чувствую, что эту часть можно сделать гораздо проще, мб с помощью регулярных выражений)\n",
    "\n",
    "new=new.lower()\n",
    "#ставим один регистр по всем словам \n",
    "\n",
    "new=new.split(' ')\n",
    "#делаем список слов \n",
    "\n",
    "unique=[]\n",
    "for i in new:\n",
    "    if i not in unique:\n",
    "        unique.append(i)\n",
    "#составляем список уникальных значений\n",
    "\n",
    "print(len(unique))"
   ]
  },
  {
   "cell_type": "code",
   "execution_count": 35,
   "metadata": {},
   "outputs": [
    {
     "data": {
      "text/html": [
       "<div>\n",
       "<style scoped>\n",
       "    .dataframe tbody tr th:only-of-type {\n",
       "        vertical-align: middle;\n",
       "    }\n",
       "\n",
       "    .dataframe tbody tr th {\n",
       "        vertical-align: top;\n",
       "    }\n",
       "\n",
       "    .dataframe thead th {\n",
       "        text-align: right;\n",
       "    }\n",
       "</style>\n",
       "<table border=\"1\" class=\"dataframe\">\n",
       "  <thead>\n",
       "    <tr style=\"text-align: right;\">\n",
       "      <th></th>\n",
       "      <th>imdb_id</th>\n",
       "      <th>popularity</th>\n",
       "      <th>budget</th>\n",
       "      <th>revenue</th>\n",
       "      <th>original_title</th>\n",
       "      <th>cast</th>\n",
       "      <th>director</th>\n",
       "      <th>tagline</th>\n",
       "      <th>overview</th>\n",
       "      <th>runtime</th>\n",
       "      <th>genres</th>\n",
       "      <th>production_companies</th>\n",
       "      <th>release_date</th>\n",
       "      <th>vote_count</th>\n",
       "      <th>vote_average</th>\n",
       "      <th>release_year</th>\n",
       "    </tr>\n",
       "  </thead>\n",
       "  <tbody>\n",
       "    <tr>\n",
       "      <th>9</th>\n",
       "      <td>tt2096673</td>\n",
       "      <td>6.326804</td>\n",
       "      <td>175000000</td>\n",
       "      <td>853708609</td>\n",
       "      <td>Inside Out</td>\n",
       "      <td>Amy Poehler|Phyllis Smith|Richard Kind|Bill Ha...</td>\n",
       "      <td>Pete Docter</td>\n",
       "      <td>Meet the little voices inside your head.</td>\n",
       "      <td>Growing up can be a bumpy road, and it's no ex...</td>\n",
       "      <td>94</td>\n",
       "      <td>Comedy|Animation|Family</td>\n",
       "      <td>Walt Disney Pictures|Pixar Animation Studios|W...</td>\n",
       "      <td>6/9/2015</td>\n",
       "      <td>3935</td>\n",
       "      <td>8.0</td>\n",
       "      <td>2015</td>\n",
       "    </tr>\n",
       "    <tr>\n",
       "      <th>34</th>\n",
       "      <td>tt3170832</td>\n",
       "      <td>3.557846</td>\n",
       "      <td>6000000</td>\n",
       "      <td>35401758</td>\n",
       "      <td>Room</td>\n",
       "      <td>Brie Larson|Jacob Tremblay|Joan Allen|Sean Bri...</td>\n",
       "      <td>Lenny Abrahamson</td>\n",
       "      <td>Love knows no boundaries</td>\n",
       "      <td>Jack is a young boy of 5 years old who has liv...</td>\n",
       "      <td>117</td>\n",
       "      <td>Drama|Thriller</td>\n",
       "      <td>Element Pictures|No Trace Camping|A24|Duperele...</td>\n",
       "      <td>10/16/2015</td>\n",
       "      <td>1520</td>\n",
       "      <td>8.0</td>\n",
       "      <td>2015</td>\n",
       "    </tr>\n",
       "    <tr>\n",
       "      <th>118</th>\n",
       "      <td>tt0816692</td>\n",
       "      <td>24.949134</td>\n",
       "      <td>165000000</td>\n",
       "      <td>621752480</td>\n",
       "      <td>Interstellar</td>\n",
       "      <td>Matthew McConaughey|Jessica Chastain|Anne Hath...</td>\n",
       "      <td>Christopher Nolan</td>\n",
       "      <td>Mankind was born on Earth. It was never meant ...</td>\n",
       "      <td>Interstellar chronicles the adventures of a gr...</td>\n",
       "      <td>169</td>\n",
       "      <td>Adventure|Drama|Science Fiction</td>\n",
       "      <td>Paramount Pictures|Legendary Pictures|Warner B...</td>\n",
       "      <td>11/5/2014</td>\n",
       "      <td>6498</td>\n",
       "      <td>8.0</td>\n",
       "      <td>2014</td>\n",
       "    </tr>\n",
       "    <tr>\n",
       "      <th>119</th>\n",
       "      <td>tt2015381</td>\n",
       "      <td>14.311205</td>\n",
       "      <td>170000000</td>\n",
       "      <td>773312399</td>\n",
       "      <td>Guardians of the Galaxy</td>\n",
       "      <td>Chris Pratt|Zoe Saldana|Dave Bautista|Vin Dies...</td>\n",
       "      <td>James Gunn</td>\n",
       "      <td>All heroes start somewhere.</td>\n",
       "      <td>Light years from Earth, 26 years after being a...</td>\n",
       "      <td>121</td>\n",
       "      <td>Action|Science Fiction|Adventure</td>\n",
       "      <td>Marvel Studios|Moving Picture Company (MPC)|Bu...</td>\n",
       "      <td>7/30/2014</td>\n",
       "      <td>5612</td>\n",
       "      <td>7.9</td>\n",
       "      <td>2014</td>\n",
       "    </tr>\n",
       "    <tr>\n",
       "      <th>125</th>\n",
       "      <td>tt2084970</td>\n",
       "      <td>8.110711</td>\n",
       "      <td>14000000</td>\n",
       "      <td>233555708</td>\n",
       "      <td>The Imitation Game</td>\n",
       "      <td>Benedict Cumberbatch|Keira Knightley|Matthew G...</td>\n",
       "      <td>Morten Tyldum</td>\n",
       "      <td>The true enigma was the man who cracked the code.</td>\n",
       "      <td>Based on the real life story of legendary cryp...</td>\n",
       "      <td>113</td>\n",
       "      <td>History|Drama|Thriller|War</td>\n",
       "      <td>Black Bear Pictures|Bristol Automotive</td>\n",
       "      <td>11/14/2014</td>\n",
       "      <td>3478</td>\n",
       "      <td>8.0</td>\n",
       "      <td>2014</td>\n",
       "    </tr>\n",
       "    <tr>\n",
       "      <th>128</th>\n",
       "      <td>tt2267998</td>\n",
       "      <td>6.438727</td>\n",
       "      <td>61000000</td>\n",
       "      <td>369330363</td>\n",
       "      <td>Gone Girl</td>\n",
       "      <td>Ben Affleck|Rosamund Pike|Carrie Coon|Neil Pat...</td>\n",
       "      <td>David Fincher</td>\n",
       "      <td>You don't know what you've got 'til it's...</td>\n",
       "      <td>With his wife's disappearance having become th...</td>\n",
       "      <td>145</td>\n",
       "      <td>Mystery|Thriller|Drama</td>\n",
       "      <td>Twentieth Century Fox Film Corporation|Regency...</td>\n",
       "      <td>10/1/2014</td>\n",
       "      <td>3720</td>\n",
       "      <td>7.9</td>\n",
       "      <td>2014</td>\n",
       "    </tr>\n",
       "    <tr>\n",
       "      <th>138</th>\n",
       "      <td>tt2278388</td>\n",
       "      <td>4.930820</td>\n",
       "      <td>30000000</td>\n",
       "      <td>174600318</td>\n",
       "      <td>The Grand Budapest Hotel</td>\n",
       "      <td>Ralph Fiennes|Tony Revolori|F. Murray Abraham|...</td>\n",
       "      <td>Wes Anderson</td>\n",
       "      <td>A perfect holiday without leaving home.</td>\n",
       "      <td>The Grand Budapest Hotel tells of a legendary ...</td>\n",
       "      <td>99</td>\n",
       "      <td>Comedy|Drama</td>\n",
       "      <td>Fox Searchlight Pictures|Scott Rudin Productio...</td>\n",
       "      <td>2/26/2014</td>\n",
       "      <td>2802</td>\n",
       "      <td>7.9</td>\n",
       "      <td>2014</td>\n",
       "    </tr>\n",
       "    <tr>\n",
       "      <th>370</th>\n",
       "      <td>tt1375666</td>\n",
       "      <td>9.363643</td>\n",
       "      <td>160000000</td>\n",
       "      <td>825500000</td>\n",
       "      <td>Inception</td>\n",
       "      <td>Leonardo DiCaprio|Joseph Gordon-Levitt|Ellen P...</td>\n",
       "      <td>Christopher Nolan</td>\n",
       "      <td>Your mind is the scene of the crime.</td>\n",
       "      <td>Cobb, a skilled thief who commits corporate es...</td>\n",
       "      <td>148</td>\n",
       "      <td>Action|Thriller|Science Fiction|Mystery|Adventure</td>\n",
       "      <td>Legendary Pictures|Warner Bros.|Syncopy</td>\n",
       "      <td>7/14/2010</td>\n",
       "      <td>9767</td>\n",
       "      <td>7.9</td>\n",
       "      <td>2010</td>\n",
       "    </tr>\n",
       "    <tr>\n",
       "      <th>600</th>\n",
       "      <td>tt0468569</td>\n",
       "      <td>8.466668</td>\n",
       "      <td>185000000</td>\n",
       "      <td>1001921825</td>\n",
       "      <td>The Dark Knight</td>\n",
       "      <td>Christian Bale|Michael Caine|Heath Ledger|Aaro...</td>\n",
       "      <td>Christopher Nolan</td>\n",
       "      <td>Why So Serious?</td>\n",
       "      <td>Batman raises the stakes in his war on crime. ...</td>\n",
       "      <td>152</td>\n",
       "      <td>Drama|Action|Crime|Thriller</td>\n",
       "      <td>DC Comics|Legendary Pictures|Warner Bros.|Syncopy</td>\n",
       "      <td>7/16/2008</td>\n",
       "      <td>8432</td>\n",
       "      <td>8.1</td>\n",
       "      <td>2008</td>\n",
       "    </tr>\n",
       "    <tr>\n",
       "      <th>873</th>\n",
       "      <td>tt0253474</td>\n",
       "      <td>2.364204</td>\n",
       "      <td>35000000</td>\n",
       "      <td>120072577</td>\n",
       "      <td>The Pianist</td>\n",
       "      <td>Adrien Brody|Thomas Kretschmann|Frank Finlay|M...</td>\n",
       "      <td>Roman Polanski</td>\n",
       "      <td>Music was his passion. Survival was his master...</td>\n",
       "      <td>The Pianist is a film adapted from the biograp...</td>\n",
       "      <td>150</td>\n",
       "      <td>Drama|War</td>\n",
       "      <td>Bac Films|Canal+Polska|Heritage Films|Studio B...</td>\n",
       "      <td>9/24/2002</td>\n",
       "      <td>938</td>\n",
       "      <td>7.9</td>\n",
       "      <td>2002</td>\n",
       "    </tr>\n",
       "    <tr>\n",
       "      <th>1082</th>\n",
       "      <td>tt0167260</td>\n",
       "      <td>7.122455</td>\n",
       "      <td>94000000</td>\n",
       "      <td>1118888979</td>\n",
       "      <td>The Lord of the Rings: The Return of the King</td>\n",
       "      <td>Elijah Wood|Ian McKellen|Viggo Mortensen|Liv T...</td>\n",
       "      <td>Peter Jackson</td>\n",
       "      <td>The eye of the enemy is moving.</td>\n",
       "      <td>Aragorn is revealed as the heir to the ancient...</td>\n",
       "      <td>201</td>\n",
       "      <td>Adventure|Fantasy|Action</td>\n",
       "      <td>WingNut Films|New Line Cinema</td>\n",
       "      <td>12/1/2003</td>\n",
       "      <td>5636</td>\n",
       "      <td>7.9</td>\n",
       "      <td>2003</td>\n",
       "    </tr>\n",
       "    <tr>\n",
       "      <th>1184</th>\n",
       "      <td>tt0993846</td>\n",
       "      <td>4.877927</td>\n",
       "      <td>100000000</td>\n",
       "      <td>392000694</td>\n",
       "      <td>The Wolf of Wall Street</td>\n",
       "      <td>Leonardo DiCaprio|Jonah Hill|Margot Robbie|Kyl...</td>\n",
       "      <td>Martin Scorsese</td>\n",
       "      <td>EARN. SPEND. PARTY.</td>\n",
       "      <td>A New York stockbroker refuses to cooperate in...</td>\n",
       "      <td>180</td>\n",
       "      <td>Crime|Drama|Comedy</td>\n",
       "      <td>Paramount Pictures|Appian Way|EMJAG Production...</td>\n",
       "      <td>12/25/2013</td>\n",
       "      <td>4027</td>\n",
       "      <td>7.9</td>\n",
       "      <td>2013</td>\n",
       "    </tr>\n",
       "    <tr>\n",
       "      <th>1192</th>\n",
       "      <td>tt2024544</td>\n",
       "      <td>3.625529</td>\n",
       "      <td>20000000</td>\n",
       "      <td>187000000</td>\n",
       "      <td>12 Years a Slave</td>\n",
       "      <td>Chiwetel Ejiofor|Michael Fassbender|Lupita Nyo...</td>\n",
       "      <td>Steve McQueen</td>\n",
       "      <td>The extraordinary true story of Solomon Northup</td>\n",
       "      <td>In the pre-Civil War United States, Solomon No...</td>\n",
       "      <td>134</td>\n",
       "      <td>Drama|History</td>\n",
       "      <td>Plan B Entertainment|Regency Enterprises|River...</td>\n",
       "      <td>10/18/2013</td>\n",
       "      <td>2241</td>\n",
       "      <td>7.9</td>\n",
       "      <td>2013</td>\n",
       "    </tr>\n",
       "    <tr>\n",
       "      <th>1801</th>\n",
       "      <td>tt0209144</td>\n",
       "      <td>3.095625</td>\n",
       "      <td>9000000</td>\n",
       "      <td>39723096</td>\n",
       "      <td>Memento</td>\n",
       "      <td>Guy Pearce|Carrie-Anne Moss|Joe Pantoliano|Mar...</td>\n",
       "      <td>Christopher Nolan</td>\n",
       "      <td>Some memories are best forgotten.</td>\n",
       "      <td>Suffering short-term memory loss after a head ...</td>\n",
       "      <td>113</td>\n",
       "      <td>Mystery|Thriller</td>\n",
       "      <td>Summit Entertainment|Newmarket Capital Group|T...</td>\n",
       "      <td>10/11/2000</td>\n",
       "      <td>2144</td>\n",
       "      <td>7.9</td>\n",
       "      <td>2000</td>\n",
       "    </tr>\n",
       "  </tbody>\n",
       "</table>\n",
       "</div>"
      ],
      "text/plain": [
       "        imdb_id  popularity     budget     revenue  \\\n",
       "9     tt2096673    6.326804  175000000   853708609   \n",
       "34    tt3170832    3.557846    6000000    35401758   \n",
       "118   tt0816692   24.949134  165000000   621752480   \n",
       "119   tt2015381   14.311205  170000000   773312399   \n",
       "125   tt2084970    8.110711   14000000   233555708   \n",
       "128   tt2267998    6.438727   61000000   369330363   \n",
       "138   tt2278388    4.930820   30000000   174600318   \n",
       "370   tt1375666    9.363643  160000000   825500000   \n",
       "600   tt0468569    8.466668  185000000  1001921825   \n",
       "873   tt0253474    2.364204   35000000   120072577   \n",
       "1082  tt0167260    7.122455   94000000  1118888979   \n",
       "1184  tt0993846    4.877927  100000000   392000694   \n",
       "1192  tt2024544    3.625529   20000000   187000000   \n",
       "1801  tt0209144    3.095625    9000000    39723096   \n",
       "\n",
       "                                     original_title  \\\n",
       "9                                        Inside Out   \n",
       "34                                             Room   \n",
       "118                                    Interstellar   \n",
       "119                         Guardians of the Galaxy   \n",
       "125                              The Imitation Game   \n",
       "128                                       Gone Girl   \n",
       "138                        The Grand Budapest Hotel   \n",
       "370                                       Inception   \n",
       "600                                 The Dark Knight   \n",
       "873                                     The Pianist   \n",
       "1082  The Lord of the Rings: The Return of the King   \n",
       "1184                        The Wolf of Wall Street   \n",
       "1192                               12 Years a Slave   \n",
       "1801                                        Memento   \n",
       "\n",
       "                                                   cast           director  \\\n",
       "9     Amy Poehler|Phyllis Smith|Richard Kind|Bill Ha...        Pete Docter   \n",
       "34    Brie Larson|Jacob Tremblay|Joan Allen|Sean Bri...   Lenny Abrahamson   \n",
       "118   Matthew McConaughey|Jessica Chastain|Anne Hath...  Christopher Nolan   \n",
       "119   Chris Pratt|Zoe Saldana|Dave Bautista|Vin Dies...         James Gunn   \n",
       "125   Benedict Cumberbatch|Keira Knightley|Matthew G...      Morten Tyldum   \n",
       "128   Ben Affleck|Rosamund Pike|Carrie Coon|Neil Pat...      David Fincher   \n",
       "138   Ralph Fiennes|Tony Revolori|F. Murray Abraham|...       Wes Anderson   \n",
       "370   Leonardo DiCaprio|Joseph Gordon-Levitt|Ellen P...  Christopher Nolan   \n",
       "600   Christian Bale|Michael Caine|Heath Ledger|Aaro...  Christopher Nolan   \n",
       "873   Adrien Brody|Thomas Kretschmann|Frank Finlay|M...     Roman Polanski   \n",
       "1082  Elijah Wood|Ian McKellen|Viggo Mortensen|Liv T...      Peter Jackson   \n",
       "1184  Leonardo DiCaprio|Jonah Hill|Margot Robbie|Kyl...    Martin Scorsese   \n",
       "1192  Chiwetel Ejiofor|Michael Fassbender|Lupita Nyo...      Steve McQueen   \n",
       "1801  Guy Pearce|Carrie-Anne Moss|Joe Pantoliano|Mar...  Christopher Nolan   \n",
       "\n",
       "                                                tagline  \\\n",
       "9              Meet the little voices inside your head.   \n",
       "34                             Love knows no boundaries   \n",
       "118   Mankind was born on Earth. It was never meant ...   \n",
       "119                         All heroes start somewhere.   \n",
       "125   The true enigma was the man who cracked the code.   \n",
       "128         You don't know what you've got 'til it's...   \n",
       "138             A perfect holiday without leaving home.   \n",
       "370                Your mind is the scene of the crime.   \n",
       "600                                     Why So Serious?   \n",
       "873   Music was his passion. Survival was his master...   \n",
       "1082                    The eye of the enemy is moving.   \n",
       "1184                                EARN. SPEND. PARTY.   \n",
       "1192    The extraordinary true story of Solomon Northup   \n",
       "1801                  Some memories are best forgotten.   \n",
       "\n",
       "                                               overview  runtime  \\\n",
       "9     Growing up can be a bumpy road, and it's no ex...       94   \n",
       "34    Jack is a young boy of 5 years old who has liv...      117   \n",
       "118   Interstellar chronicles the adventures of a gr...      169   \n",
       "119   Light years from Earth, 26 years after being a...      121   \n",
       "125   Based on the real life story of legendary cryp...      113   \n",
       "128   With his wife's disappearance having become th...      145   \n",
       "138   The Grand Budapest Hotel tells of a legendary ...       99   \n",
       "370   Cobb, a skilled thief who commits corporate es...      148   \n",
       "600   Batman raises the stakes in his war on crime. ...      152   \n",
       "873   The Pianist is a film adapted from the biograp...      150   \n",
       "1082  Aragorn is revealed as the heir to the ancient...      201   \n",
       "1184  A New York stockbroker refuses to cooperate in...      180   \n",
       "1192  In the pre-Civil War United States, Solomon No...      134   \n",
       "1801  Suffering short-term memory loss after a head ...      113   \n",
       "\n",
       "                                                 genres  \\\n",
       "9                               Comedy|Animation|Family   \n",
       "34                                       Drama|Thriller   \n",
       "118                     Adventure|Drama|Science Fiction   \n",
       "119                    Action|Science Fiction|Adventure   \n",
       "125                          History|Drama|Thriller|War   \n",
       "128                              Mystery|Thriller|Drama   \n",
       "138                                        Comedy|Drama   \n",
       "370   Action|Thriller|Science Fiction|Mystery|Adventure   \n",
       "600                         Drama|Action|Crime|Thriller   \n",
       "873                                           Drama|War   \n",
       "1082                           Adventure|Fantasy|Action   \n",
       "1184                                 Crime|Drama|Comedy   \n",
       "1192                                      Drama|History   \n",
       "1801                                   Mystery|Thriller   \n",
       "\n",
       "                                   production_companies release_date  \\\n",
       "9     Walt Disney Pictures|Pixar Animation Studios|W...     6/9/2015   \n",
       "34    Element Pictures|No Trace Camping|A24|Duperele...   10/16/2015   \n",
       "118   Paramount Pictures|Legendary Pictures|Warner B...    11/5/2014   \n",
       "119   Marvel Studios|Moving Picture Company (MPC)|Bu...    7/30/2014   \n",
       "125              Black Bear Pictures|Bristol Automotive   11/14/2014   \n",
       "128   Twentieth Century Fox Film Corporation|Regency...    10/1/2014   \n",
       "138   Fox Searchlight Pictures|Scott Rudin Productio...    2/26/2014   \n",
       "370             Legendary Pictures|Warner Bros.|Syncopy    7/14/2010   \n",
       "600   DC Comics|Legendary Pictures|Warner Bros.|Syncopy    7/16/2008   \n",
       "873   Bac Films|Canal+Polska|Heritage Films|Studio B...    9/24/2002   \n",
       "1082                      WingNut Films|New Line Cinema    12/1/2003   \n",
       "1184  Paramount Pictures|Appian Way|EMJAG Production...   12/25/2013   \n",
       "1192  Plan B Entertainment|Regency Enterprises|River...   10/18/2013   \n",
       "1801  Summit Entertainment|Newmarket Capital Group|T...   10/11/2000   \n",
       "\n",
       "      vote_count  vote_average  release_year  \n",
       "9           3935           8.0          2015  \n",
       "34          1520           8.0          2015  \n",
       "118         6498           8.0          2014  \n",
       "119         5612           7.9          2014  \n",
       "125         3478           8.0          2014  \n",
       "128         3720           7.9          2014  \n",
       "138         2802           7.9          2014  \n",
       "370         9767           7.9          2010  \n",
       "600         8432           8.1          2008  \n",
       "873          938           7.9          2002  \n",
       "1082        5636           7.9          2003  \n",
       "1184        4027           7.9          2013  \n",
       "1192        2241           7.9          2013  \n",
       "1801        2144           7.9          2000  "
      ]
     },
     "metadata": {},
     "output_type": "display_data"
    },
    {
     "name": "stdout",
     "output_type": "stream",
     "text": [
      "None\n"
     ]
    }
   ],
   "source": [
    "#34. Какие фильмы входят в 1 % лучших по рейтингу?\n",
    "\n",
    "import pandas as pd\n",
    "data=pd.read_csv('data.csv')\n",
    "\n",
    "data_new=data['vote_average']\n",
    "import numpy as np\n",
    "a=np.percentile(data_new, 99)\n",
    "#узнаем границу 1%\n",
    "\n",
    "data=data.query('vote_average> @a')\n",
    "print(display(data))"
   ]
  },
  {
   "cell_type": "code",
   "execution_count": 59,
   "metadata": {},
   "outputs": [
    {
     "name": "stderr",
     "output_type": "stream",
     "text": [
      "/Users/yasckevich/opt/anaconda3/lib/python3.7/site-packages/ipykernel_launcher.py:33: UserWarning: Boolean Series key will be reindexed to match DataFrame index.\n",
      "/Users/yasckevich/opt/anaconda3/lib/python3.7/site-packages/ipykernel_launcher.py:37: UserWarning: Boolean Series key will be reindexed to match DataFrame index.\n",
      "/Users/yasckevich/opt/anaconda3/lib/python3.7/site-packages/ipykernel_launcher.py:41: UserWarning: Boolean Series key will be reindexed to match DataFrame index.\n",
      "/Users/yasckevich/opt/anaconda3/lib/python3.7/site-packages/ipykernel_launcher.py:45: UserWarning: Boolean Series key will be reindexed to match DataFrame index.\n",
      "/Users/yasckevich/opt/anaconda3/lib/python3.7/site-packages/ipykernel_launcher.py:49: UserWarning: Boolean Series key will be reindexed to match DataFrame index.\n"
     ]
    },
    {
     "name": "stdout",
     "output_type": "stream",
     "text": [
      "Johnny Depp and Helena Bonham Carter 6\n",
      "Hugh Jackman and Ian McKellen 5\n",
      "Vin Diesel and Paul Walker 5\n",
      "Adam Sandler and Kevin James 5\n",
      "Daniel Radcliffe and Rupert Grint 8\n"
     ]
    },
    {
     "name": "stderr",
     "output_type": "stream",
     "text": [
      "IOPub data rate exceeded.\n",
      "The notebook server will temporarily stop sending output\n",
      "to the client in order to avoid crashing it.\n",
      "To change this limit, set the config variable\n",
      "`--NotebookApp.iopub_data_rate_limit`.\n",
      "\n",
      "Current values:\n",
      "NotebookApp.iopub_data_rate_limit=1000000.0 (bytes/sec)\n",
      "NotebookApp.rate_limit_window=3.0 (secs)\n",
      "\n"
     ]
    }
   ],
   "source": [
    "#36. Какие актеры чаще всего снимаются в одном фильме вместе?\n",
    "\n",
    "#тут я не смогла додуматься как сделать\n",
    "\n",
    "import pandas as pd\n",
    "import itertools\n",
    "\n",
    "data=pd.read_csv('data.csv')\n",
    "a=pd.DataFrame(data.cast.str.split('|').tolist()).stack().value_counts()\n",
    "new=list(dict(a).keys())\n",
    "#создала список со всеми актерами\n",
    "\n",
    "a=list(itertools.combinations(new,2))\n",
    "#все возможные комбинации актеров \n",
    "\n",
    "#но далее возникла ошибка: \n",
    "#IOPub data rate exceeded.\n",
    "#The notebook server will temporarily stop sending output\n",
    "#to the client in order to avoid crashing it.\n",
    "#To change this limit, set the config variable\n",
    "#`--NotebookApp.iopub_data_rate_limit`.\n",
    "\n",
    "#Current values:\n",
    "#NotebookApp.iopub_data_rate_limit=1000000.0 (bytes/sec)\n",
    "#NotebookApp.rate_limit_window=3.0 (secs)\"\n",
    "\n",
    "#по идее дальше нужно перебрать какие пары сколько раз встречались, отфильтровать и найти лидера\n",
    "#но нет(\n",
    "\n",
    "#поэтому пришлось вручную перебирать\n",
    "data=pd.read_csv('data.csv')\n",
    "\n",
    "data1=data[data.cast.str.contains('Johnny Depp')]\n",
    "data1=data1[data.cast.str.contains('Helena Bonham')]\n",
    "print('Johnny Depp and Helena Bonham Carter', len(data1))\n",
    "\n",
    "data2=data[data.cast.str.contains('Hugh Jackman')]\n",
    "data2=data2[data.cast.str.contains('Ian McKellen')]\n",
    "print('Hugh Jackman and Ian McKellen', len(data2))\n",
    "\n",
    "data3=data[data.cast.str.contains('Vin Diesel')]\n",
    "data3=data3[data.cast.str.contains('Paul Walker')]\n",
    "print('Vin Diesel and Paul Walker', len(data3))\n",
    "\n",
    "data4=data[data.cast.str.contains('Adam Sandler')]\n",
    "data4=data4[data.cast.str.contains('Kevin James')]\n",
    "print('Adam Sandler and Kevin James', len(data4))\n",
    "\n",
    "data5=data[data.cast.str.contains('Daniel Radcliffe')]\n",
    "data5=data5[data.cast.str.contains('Rupert Grint')]\n",
    "print('Daniel Radcliffe and Rupert Grint', len(data5))\n",
    "print(a)    \n"
   ]
  },
  {
   "cell_type": "code",
   "execution_count": 54,
   "metadata": {},
   "outputs": [
    {
     "name": "stdout",
     "output_type": "stream",
     "text": [
      "Quentin Tarantino 100.0 %\n",
      "Steven Soderbergh 76.92307692307693 %\n",
      "Robert Rodriguez 85.71428571428571 %\n",
      "Christopher Nolan 100.0 %\n",
      "Clint Eastwood 83.33333333333334 %\n"
     ]
    }
   ],
   "source": [
    "#36. У какого из режиссеров самый высокий процент фильмов со сборами выше бюджета?\n",
    "\n",
    "import pandas as pd\n",
    "\n",
    "data=pd.read_csv('data.csv')\n",
    "\n",
    "a=data.groupby(['director']).count()\n",
    "a=a[['revenue']]\n",
    "#группируем таблицу по режиссеру с общим кол-вом фильмов\n",
    "\n",
    "data_new=data.copy()\n",
    "data_new['profit']=data['revenue']-data['budget']\n",
    "data_new=data_new.query('profit>0')\n",
    "b=data_new.groupby(['director']).count()\n",
    "b=b[['profit']]\n",
    "#группируем таблицу по режиссеру с кол-вом прибыльных фильмов\n",
    "\n",
    "c=pd.concat([a,b],axis=1)\n",
    "#объединяем таблицу\n",
    "\n",
    "c = c.fillna(0) \n",
    "#приравниваем ошибку к нулю\n",
    "\n",
    "def func(profit):\n",
    "    a=int(profit)\n",
    "    return a\n",
    "c['profit']=c.profit.apply(func)\n",
    "#приводим столбец к цифровому значению\n",
    "\n",
    "c['e']=c['profit']/c['revenue']\n",
    "#узнаем % фильмов со сборами выше бюджета\n",
    "\n",
    "a=c['e']['Quentin Tarantino']*100\n",
    "print('Quentin Tarantino', a, '%')\n",
    "a=c['e']['Steven Soderbergh']*100\n",
    "print('Steven Soderbergh', a, '%')\n",
    "a=c['e']['Robert Rodriguez']*100\n",
    "print('Robert Rodriguez', a, '%')\n",
    "a=c['e']['Christopher Nolan']*100\n",
    "print('Christopher Nolan', a, '%')\n",
    "a=c['e']['Clint Eastwood']*100\n",
    "print('Clint Eastwood', a, '%')\n",
    "\n",
    "#почему-то два правильных ответа, ошибку не смогла найти"
   ]
  },
  {
   "cell_type": "code",
   "execution_count": null,
   "metadata": {},
   "outputs": [],
   "source": [
    "#небольшой эпилог:\n",
    "#да, я все никак не освою github, его логику поняла, а механику - нет. на сл неделю буду исправляться\n",
    "#не хватает понимания где можно использовать регулярные выражения, \n",
    "#вроде штука крутая, а с пониманием где его лучше употреблять и как - проблемы\n",
    "#и еще вопрос: как лучше всего работать с ошибками и как их \"читать\"?"
   ]
  }
 ],
 "metadata": {
  "kernelspec": {
   "display_name": "Python 3",
   "language": "python",
   "name": "python3"
  },
  "language_info": {
   "codemirror_mode": {
    "name": "ipython",
    "version": 3
   },
   "file_extension": ".py",
   "mimetype": "text/x-python",
   "name": "python",
   "nbconvert_exporter": "python",
   "pygments_lexer": "ipython3",
   "version": "3.7.6"
  }
 },
 "nbformat": 4,
 "nbformat_minor": 4
}
